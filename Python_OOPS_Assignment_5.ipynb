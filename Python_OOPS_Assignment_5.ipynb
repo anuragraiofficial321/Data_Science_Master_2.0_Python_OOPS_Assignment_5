{
 "cells": [
  {
   "cell_type": "markdown",
   "metadata": {},
   "source": [
    "### Q1.Explain Class and Object with respect to Object-Oriented Programming. Give a suitable example.\n",
    "\n",
    "|Class|Object|\n",
    "|-|-|\n",
    "| A Class is a blueprint or template for crating objects.| An object is an instance of a class|\n",
    "| Think of it as a plan for building something with specific properties (attributes) and actions (methods).|Think of an object as a special kind of thing that has its own characteristics and abilities.|\n",
    "|Example:In the case of the \"Cat\" class, it would define the common attributes and methods that all cat objects should have.|example:a cat is an object. It has its own color, size, and it can do things like run, jump, and meow|\n",
    "\n",
    "- \"Cat\" class provides a structured way to represent and interact with cat objects\n"
   ]
  },
  {
   "cell_type": "code",
   "execution_count": 2,
   "metadata": {},
   "outputs": [],
   "source": [
    "# I am creating a class Cat and defining the common methods that all cat should have\n",
    "class Cat:\n",
    "    # this is constructor when i create a oject this function is automatically called\n",
    "    def __init__(self, name, color):\n",
    "        self.name = name\n",
    "        self.color = color\n",
    "        self.energy=100\n",
    "    \n",
    "    def run(self):\n",
    "        if self.energy >= 10:\n",
    "            print(\"Cat is running\")\n",
    "            self.energy -= 10\n",
    "        else:\n",
    "            print(\"Cat is too tired to run\")\n",
    "\n",
    "    def jump(self):\n",
    "        if self.energy >= 5:\n",
    "            print(\"Cat is jumping\")\n",
    "            self.energy -= 5\n",
    "        else:\n",
    "            print(\"Cat is too tired to jump.\")\n",
    "\n",
    "    def meow(self):\n",
    "        print(f\"{self.name} says: Meow!\")"
   ]
  },
  {
   "cell_type": "code",
   "execution_count": 3,
   "metadata": {},
   "outputs": [],
   "source": [
    "# I Create a cat objects aslo known as instances\n",
    "cat1 = Cat(\"queen\", \"gray\") # I create a cat object name is cat1 now i am taking about the paricular cat not a group of cat\n",
    "cat2 = Cat(\"jenny\", \"white\") #I create a cat object name is cat2\n"
   ]
  },
  {
   "cell_type": "code",
   "execution_count": 6,
   "metadata": {},
   "outputs": [
    {
     "name": "stdout",
     "output_type": "stream",
     "text": [
      "queen is a gray cat.\n",
      "jenny is a white cat.\n",
      "Cat is running\n",
      "Cat is running\n"
     ]
    }
   ],
   "source": [
    "# Now i can access the function of cat class with help of function name\n",
    "print(f\"{cat1.name} is a {cat1.color} cat.\")\n",
    "print(f\"{cat2.name} is a {cat2.color} cat.\")\n",
    "\n",
    "# I use the same method for different objects so class is blueprint to create object\n",
    "cat1.run()\n",
    "cat2.run()"
   ]
  },
  {
   "cell_type": "code",
   "execution_count": 7,
   "metadata": {},
   "outputs": [
    {
     "name": "stdout",
     "output_type": "stream",
     "text": [
      "queen says: Meow!\n",
      "jenny says: Meow!\n"
     ]
    }
   ],
   "source": [
    "cat1.meow()\n",
    "cat2.meow()"
   ]
  },
  {
   "cell_type": "code",
   "execution_count": 8,
   "metadata": {},
   "outputs": [
    {
     "name": "stdout",
     "output_type": "stream",
     "text": [
      "Cat is jumping\n",
      "Cat is jumping\n"
     ]
    }
   ],
   "source": [
    "cat1.jump()\n",
    "cat2.jump()"
   ]
  },
  {
   "cell_type": "markdown",
   "metadata": {},
   "source": [
    "### Q2. Name the four pillars of OOPs\n",
    "\n",
    "#### Encapsulation:\n",
    "- Encapsulation is a fundamental concept that empowers to control the direct access and modification of variables or functions within a program\n",
    "- Using double underscores (__),I have encapsulated my variable except for the creator ensuring that no unauthorized access or modifications can occur.\n",
    "- It restricts direct access to some of the objects components and hides the internal implementation details. - Encapsulation helps in achieving data hiding and abstraction,allowing to control how the data is accessed and manipulated."
   ]
  },
  {
   "cell_type": "code",
   "execution_count": 9,
   "metadata": {},
   "outputs": [],
   "source": [
    "class car:\n",
    "    def __init__(self,year,make,model,speed):\n",
    "        self.__year=year\n",
    "        self.__make=make\n",
    "        self.__model=model\n",
    "        self.__speed=0\n",
    "\n",
    "ob_car=car(2021,\"toyota\",'innova',12)\n"
   ]
  },
  {
   "cell_type": "code",
   "execution_count": 10,
   "metadata": {},
   "outputs": [
    {
     "ename": "AttributeError",
     "evalue": "'car' object has no attribute '__year'",
     "output_type": "error",
     "traceback": [
      "\u001b[1;31m---------------------------------------------------------------------------\u001b[0m",
      "\u001b[1;31mAttributeError\u001b[0m                            Traceback (most recent call last)",
      "Cell \u001b[1;32mIn[10], line 1\u001b[0m\n\u001b[1;32m----> 1\u001b[0m ob_car\u001b[39m.\u001b[39;49m__year\n",
      "\u001b[1;31mAttributeError\u001b[0m: 'car' object has no attribute '__year'"
     ]
    }
   ],
   "source": [
    "ob_car.__year"
   ]
  },
  {
   "cell_type": "code",
   "execution_count": 11,
   "metadata": {},
   "outputs": [
    {
     "data": {
      "text/plain": [
       "2021"
      ]
     },
     "execution_count": 11,
     "metadata": {},
     "output_type": "execute_result"
    }
   ],
   "source": [
    "# But i can access variable and make modification using function name\n",
    "# only i know what is the class name and variable name so i will able to access variable and make modification with the help of class name and variable name\n",
    "ob_car._car__year"
   ]
  },
  {
   "cell_type": "markdown",
   "metadata": {},
   "source": [
    "#### Abstraction:\n",
    "- Abstraction focuses on hiding complex implementation details and exposing only the necessary functionalities to the user.\n",
    "- It allows developers to create higher-level representations of objects and interactions, making the code more organized, maintainable, and easier to understand\n",
    "- Abstraction involves focusing on the essential features of an object while hiding unnecessary details. \n",
    "- By defining abstract classes or interfaces, we can create a blueprint that specifies methods that must be implemented in subclasses.\n",
    "- We can create abstraction by defining classes that provide a clear interface while keeping the internal implementation hidden"
   ]
  },
  {
   "cell_type": "code",
   "execution_count": 12,
   "metadata": {},
   "outputs": [],
   "source": [
    "import abc\n",
    "class anurag:\n",
    "    @abc.abstractmethod\n",
    "    def student_details(self):\n",
    "        pass\n",
    "    @abc.abstractmethod\n",
    "    def student_assignment(self):\n",
    "        pass\n",
    "    @abc.abstractmethod\n",
    "    def student_marks(self):\n",
    "        pass"
   ]
  },
  {
   "cell_type": "code",
   "execution_count": 14,
   "metadata": {},
   "outputs": [],
   "source": [
    "class data_science(anurag):\n",
    "    def student_details(self):\n",
    "        return \"it will try to return a details of data science masters\"\n",
    "    \n",
    "    def student_assignment(self):\n",
    "        return \"it will try to return a detils of assignment of data science\"\n",
    "    \n",
    "    def student_marks(self):\n",
    "        return \"\""
   ]
  },
  {
   "cell_type": "code",
   "execution_count": 15,
   "metadata": {},
   "outputs": [],
   "source": [
    "class web_dev(anurag):\n",
    "    def student_details(self):\n",
    "        return \"this will return a detils of web dev\"\n",
    "    \n",
    "    def student_marks(self):\n",
    "        return \"this will return the marks of web dev class\""
   ]
  },
  {
   "cell_type": "code",
   "execution_count": 16,
   "metadata": {},
   "outputs": [
    {
     "data": {
      "text/plain": [
       "'it will try to return a details of data science masters'"
      ]
     },
     "execution_count": 16,
     "metadata": {},
     "output_type": "execute_result"
    }
   ],
   "source": [
    "ds=data_science()\n",
    "ds.student_details()"
   ]
  },
  {
   "cell_type": "code",
   "execution_count": 17,
   "metadata": {},
   "outputs": [
    {
     "data": {
      "text/plain": [
       "'this will return the marks of web dev class'"
      ]
     },
     "execution_count": 17,
     "metadata": {},
     "output_type": "execute_result"
    }
   ],
   "source": [
    "we=web_dev()\n",
    "we.student_marks()"
   ]
  },
  {
   "cell_type": "markdown",
   "metadata": {},
   "source": [
    "#### Inheritance:\n",
    "- Inheritance allows a class to inherit attributes and methods from another class(superclass or base class).\n",
    "- It promotes code reusability and hierarchy in codebase. - Subclasses can inherit properties and behaviors from their parent classes while also having the flexibility to override or extend those attributes and methods.\n",
    "- Parent class is the class being inherited from, also called base class.\n",
    "\n",
    "- Child class is the class that inherits from another class, also called derived class\n",
    "\n",
    "### Create a Parent Class\n",
    "- Any class can be a parent class, so the syntax is the same as creating any other class:\n"
   ]
  },
  {
   "cell_type": "code",
   "execution_count": 21,
   "metadata": {},
   "outputs": [
    {
     "name": "stdout",
     "output_type": "stream",
     "text": [
      "Anurag Rai\n"
     ]
    }
   ],
   "source": [
    "class Person:\n",
    "  def __init__(self, fname, lname):\n",
    "    self.firstname = fname\n",
    "    self.lastname = lname\n",
    "\n",
    "  def printname(self):\n",
    "    print(self.firstname, self.lastname)\n",
    "\n",
    "#Use the Person class to create an object, and then execute the printname method:\n",
    "x = Person(\"Anurag\", \"Rai\")\n",
    "x.printname()\n"
   ]
  },
  {
   "cell_type": "markdown",
   "metadata": {},
   "source": [
    "### Create a Child Class\n",
    "- To create a class that inherits the functionality from another class, send the parent class as a parameter when creating the child class:"
   ]
  },
  {
   "cell_type": "code",
   "execution_count": 19,
   "metadata": {},
   "outputs": [],
   "source": [
    "class Student(Person):\n",
    "  pass"
   ]
  },
  {
   "cell_type": "code",
   "execution_count": 20,
   "metadata": {},
   "outputs": [
    {
     "name": "stdout",
     "output_type": "stream",
     "text": [
      "anurag rai\n"
     ]
    }
   ],
   "source": [
    "stu=Student(\"anurag\",\"rai\")\n",
    "stu.printname()"
   ]
  },
  {
   "cell_type": "markdown",
   "metadata": {},
   "source": [
    "#### Polymorphism:\n",
    "- polymorphism in programming it refers to methods/functions/operators with the same name that can be executed on many objects or classes.\n",
    "- Polymorphism is often used in Class methods, where we can have multiple classes with the same method name.\n",
    "- Polymorphism includes both compile-time (method overloading) and runtime (method overriding) polymorphism, which enhance the flexibility and adaptability of your code.\n",
    "- For example, say we have three classes: Car, Boat, and Plane, and they all have a method called move()"
   ]
  },
  {
   "cell_type": "code",
   "execution_count": 23,
   "metadata": {},
   "outputs": [],
   "source": [
    "class Car:\n",
    "  def __init__(self, brand, model):\n",
    "    self.brand = brand\n",
    "    self.model = model\n",
    "\n",
    "  def move(self):\n",
    "    print(\"Drive\")\n",
    "\n",
    "class Boat:\n",
    "  def __init__(self, brand, model):\n",
    "    self.brand = brand\n",
    "    self.model = model\n",
    "\n",
    "  def move(self):\n",
    "    print(\"Sail\")\n",
    "\n",
    "class Plane:\n",
    "  def __init__(self, brand, model):\n",
    "    self.brand = brand\n",
    "    self.model = model\n",
    "\n",
    "  def move(self):\n",
    "    print(\"Fly\")\n",
    "\n"
   ]
  },
  {
   "cell_type": "code",
   "execution_count": 24,
   "metadata": {},
   "outputs": [
    {
     "name": "stdout",
     "output_type": "stream",
     "text": [
      "Drive\n",
      "Sail\n",
      "Fly\n"
     ]
    }
   ],
   "source": [
    "car1 = Car(\"Ford\", \"Mustang\")       #Create a Car class\n",
    "boat1 = Boat(\"Ibiza\", \"Touring 20\") #Create a Boat class\n",
    "plane1 = Plane(\"Boeing\", \"747\")     #Create a Plane class\n",
    "\n",
    "for x in (car1, boat1, plane1):\n",
    "  x.move()"
   ]
  },
  {
   "cell_type": "markdown",
   "metadata": {},
   "source": [
    "### Q3. Explain why the __init__() function is used. Give a suitable example.\n",
    "\n",
    "- The __init__() function is a special method used in Python to initialize the attributes of an object when object is created.\n",
    "- It's often referred to as the constructor method.\n",
    "- The name __init__ stands for \"initialize\"\n",
    "- When an object is instantiated from a class, the __init__() method is automatically called,\n",
    "- It allows you to set initial values for the object's attributes.\n"
   ]
  },
  {
   "cell_type": "code",
   "execution_count": 25,
   "metadata": {},
   "outputs": [
    {
     "name": "stdout",
     "output_type": "stream",
     "text": [
      "Hello, my name is Anurag and I am 25 years old.\n",
      "Hello, my name is Shubham and I am 30 years old.\n"
     ]
    }
   ],
   "source": [
    "# the Person class has an __init__() method that takes two parameters, name and age. \n",
    "class Person:\n",
    "    # These parameters are used to initialize the name and age attributes of the objects.\n",
    "    def __init__(self, name, age):\n",
    "        self.name = name\n",
    "        self.age = age\n",
    "\n",
    "    def introduce(self):\n",
    "        print(f\"Hello, my name is {self.name} and I am {self.age} years old.\")\n",
    "\n",
    "# When we create instances of the Person class the __init__() method is called automatically.\n",
    "# Creating Person objects\n",
    "person1 = Person(\"Anurag\", 25)\n",
    "person2 = Person(\"Shubham\", 30)\n",
    "\n",
    "# Using the __init__() method ensures that each Person object starts with the necessary attributes\n",
    "# Using the introduce method\n",
    "person1.introduce()\n",
    "person2.introduce()\n"
   ]
  },
  {
   "cell_type": "markdown",
   "metadata": {},
   "source": [
    "### Q4. Why self is used in OOPs?\n",
    "\n",
    "- Whenever we create a new object or use a method inside that object, we need to include self as the first thing and self represents the instance of the class.\n",
    "- By using the “self”  we can access the attributes and methods of the class in python.\n",
    "- It binds the attributes with the given arguments and Self is always pointing to Current Object.\n",
    "- Self is the first argument to be passed in Constructor and Instance Method.\n",
    "- Self must be provided as a First parameter to the Instance method and constructor. If you don’t provide it, it will cause an error.\n",
    "#### Example:\n",
    "- Imagine in a group photo, and we are pointing at ourself to say, \"That's me!\" self is like that arrow pointing to the object itself.\n",
    "\n"
   ]
  },
  {
   "cell_type": "code",
   "execution_count": 28,
   "metadata": {},
   "outputs": [],
   "source": [
    "class Person:\n",
    "    # self.name and self.age help the object store its name and age.\n",
    "    def __init__(self, name, age):\n",
    "        self.name = name\n",
    "        self.age = age\n",
    "    # self in the introduce method lets the object tell about itself using its attributes.\n",
    "    def introduce(self):\n",
    "        print(f\"Hi, I'm {self.name} and I'm {self.age} years old.\")\n",
    "\n",
    "# Creating a person object\n",
    "person1 = Person(\"Anurag\", 25)"
   ]
  },
  {
   "cell_type": "code",
   "execution_count": 29,
   "metadata": {},
   "outputs": [
    {
     "name": "stdout",
     "output_type": "stream",
     "text": [
      "My name is Anurag\n",
      "I am 25 years old\n",
      "Hi, I'm Anurag and I'm 25 years old.\n"
     ]
    }
   ],
   "source": [
    "# Accessing attributes using self\n",
    "print(\"My name is\", person1.name)\n",
    "print(\"I am\", person1.age, \"years old\")\n",
    "\n",
    "person1.introduce()"
   ]
  },
  {
   "cell_type": "markdown",
   "metadata": {},
   "source": [
    "### Q5. What is inheritance? Give an example for each type of inheritance.\n",
    "\n",
    "- Inheritance allows a class to inherit attributes and methods from another class(superclass or base class).\n",
    "- It promotes code reusability and hierarchy in codebase. - Subclasses can inherit properties and behaviors from their parent classes while also having the flexibility to override or extend those attributes and methods.\n",
    "- Parent class is the class being inherited from, also called base class.\n",
    "\n",
    "- Child class is the class that inherits from another class, also called derived class\n",
    "\n",
    "### Create a Parent Class\n",
    "- Any class can be a parent class, so the syntax is the same as creating any other class:\n"
   ]
  },
  {
   "cell_type": "code",
   "execution_count": 34,
   "metadata": {},
   "outputs": [],
   "source": [
    "class Person:\n",
    "  def __init__(self, fname, lname):\n",
    "    self.firstname = fname\n",
    "    self.lastname = lname\n",
    "\n",
    "  def printname(self):\n",
    "    print(self.firstname, self.lastname)\n",
    "\n",
    "#Use the Person class to create an object, and then execute the printname method:"
   ]
  },
  {
   "cell_type": "code",
   "execution_count": 35,
   "metadata": {},
   "outputs": [
    {
     "name": "stdout",
     "output_type": "stream",
     "text": [
      "Anurag Rai\n"
     ]
    }
   ],
   "source": [
    "x = Person(\"Anurag\", \"Rai\")\n",
    "x.printname()"
   ]
  },
  {
   "cell_type": "markdown",
   "metadata": {},
   "source": [
    "### Create a Child Class\n",
    "- To create a class that inherits the functionality from another class, send the parent class as a parameter when creating the child class:"
   ]
  },
  {
   "cell_type": "code",
   "execution_count": 32,
   "metadata": {},
   "outputs": [],
   "source": [
    "class Student(Person):\n",
    "  pass"
   ]
  },
  {
   "cell_type": "markdown",
   "metadata": {},
   "source": [
    "- I Use pass keyword when you do not want to add any other properties or methods to the class.\n",
    "- Now the Student class has the same properties and methods as the Person class."
   ]
  },
  {
   "cell_type": "code",
   "execution_count": 33,
   "metadata": {},
   "outputs": [
    {
     "name": "stdout",
     "output_type": "stream",
     "text": [
      "anurag rai\n"
     ]
    }
   ],
   "source": [
    "stu=Student(\"anurag\",\"rai\")\n",
    "stu.printname()"
   ]
  },
  {
   "cell_type": "markdown",
   "metadata": {},
   "source": [
    "### Types of Inheritance:\n",
    "### Single Inheritance:\n",
    "- One class inheriting from a single superclass.\n",
    "- The subclass inherits all the attributes and methods of the superclass"
   ]
  },
  {
   "cell_type": "code",
   "execution_count": 37,
   "metadata": {},
   "outputs": [],
   "source": [
    "class Animal:\n",
    "    def speak(self):\n",
    "        pass\n",
    "\n",
    "class Dog(Animal):\n",
    "    def speak(self):\n",
    "        return \"Woof\""
   ]
  },
  {
   "cell_type": "code",
   "execution_count": 38,
   "metadata": {},
   "outputs": [
    {
     "name": "stdout",
     "output_type": "stream",
     "text": [
      "Woof\n"
     ]
    }
   ],
   "source": [
    "my_dog = Dog()\n",
    "print(my_dog.speak())"
   ]
  },
  {
   "cell_type": "markdown",
   "metadata": {},
   "source": [
    "### Multiple Inheritance:\n",
    "- Multiple inheritance allows a class to inherit from more than one superclass.\n",
    "- The subclass inherits attributes and methods from multiple superclasses."
   ]
  },
  {
   "cell_type": "code",
   "execution_count": 39,
   "metadata": {},
   "outputs": [],
   "source": [
    "class A:\n",
    "    def method_a(self):\n",
    "        return \"Method A\"\n",
    "\n",
    "class B:\n",
    "    def method_b(self):\n",
    "        return \"Method B\"\n",
    "\n",
    "class C(A, B):\n",
    "    def method_c(self):\n",
    "        return \"Method C\""
   ]
  },
  {
   "cell_type": "code",
   "execution_count": 40,
   "metadata": {},
   "outputs": [
    {
     "name": "stdout",
     "output_type": "stream",
     "text": [
      "Method A\n",
      "Method B\n",
      "Method C\n"
     ]
    }
   ],
   "source": [
    "my_object = C()\n",
    "print(my_object.method_a()) \n",
    "print(my_object.method_b())  \n",
    "print(my_object.method_c()) "
   ]
  },
  {
   "cell_type": "markdown",
   "metadata": {},
   "source": [
    "### Multilevel Inheritance:\n",
    "- Multilevel inheritance involves a chain of inheritance where child class inherits the property of parent class and child class become the parent of anothr child class. "
   ]
  },
  {
   "cell_type": "code",
   "execution_count": 41,
   "metadata": {},
   "outputs": [],
   "source": [
    "class A:\n",
    "    def method_a(self):\n",
    "        return \"Method A\"\n",
    "\n",
    "class B(A):\n",
    "    def method_b(self):\n",
    "        return \"Method B\"\n",
    "\n",
    "class C(B):\n",
    "    def method_c(self):\n",
    "        return \"Method C\""
   ]
  },
  {
   "cell_type": "code",
   "execution_count": 42,
   "metadata": {},
   "outputs": [
    {
     "name": "stdout",
     "output_type": "stream",
     "text": [
      "Method A\n",
      "Method B\n",
      "Method C\n"
     ]
    }
   ],
   "source": [
    "my_object = C()\n",
    "print(my_object.method_a())\n",
    "print(my_object.method_b())  \n",
    "print(my_object.method_c()) "
   ]
  },
  {
   "cell_type": "markdown",
   "metadata": {},
   "source": [
    "### Hierarchical Inheritance:\n",
    "- Hierarchical inheritance involves multiple subclasses inheriting from a single superclass."
   ]
  },
  {
   "cell_type": "code",
   "execution_count": 43,
   "metadata": {},
   "outputs": [],
   "source": [
    "class Animal:\n",
    "    def speak(self):\n",
    "        pass\n",
    "\n",
    "class Cat(Animal):\n",
    "    def speak(self):\n",
    "        return \"Meow\"\n",
    "\n",
    "class Dog(Animal):\n",
    "    def speak(self):\n",
    "        return \"Woof\""
   ]
  },
  {
   "cell_type": "code",
   "execution_count": 44,
   "metadata": {},
   "outputs": [
    {
     "name": "stdout",
     "output_type": "stream",
     "text": [
      "Meow\n",
      "Woof\n"
     ]
    }
   ],
   "source": [
    "my_cat = Cat()\n",
    "my_dog = Dog()\n",
    "print(my_cat.speak())  \n",
    "print(my_dog.speak()) "
   ]
  }
 ],
 "metadata": {
  "kernelspec": {
   "display_name": "base",
   "language": "python",
   "name": "python3"
  },
  "language_info": {
   "codemirror_mode": {
    "name": "ipython",
    "version": 3
   },
   "file_extension": ".py",
   "mimetype": "text/x-python",
   "name": "python",
   "nbconvert_exporter": "python",
   "pygments_lexer": "ipython3",
   "version": "3.11.4"
  },
  "orig_nbformat": 4
 },
 "nbformat": 4,
 "nbformat_minor": 2
}
